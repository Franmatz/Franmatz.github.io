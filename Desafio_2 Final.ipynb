{
 "cells": [
  {
   "cell_type": "code",
   "execution_count": 1,
   "id": "cde46072",
   "metadata": {},
   "outputs": [],
   "source": [
    "#Importamos las bibiotecas requeridas\n",
    "from sklearn import linear_model\n",
    "from sklearn.datasets import make_regression\n",
    "from sklearn.linear_model import LinearRegression, Lasso, LassoCV\n",
    "from sklearn.metrics import mean_absolute_error, mean_squared_error, r2_score\n",
    "from sklearn.model_selection import train_test_split\n",
    "from sklearn.preprocessing import OneHotEncoder\n",
    "from sklearn.preprocessing import StandardScaler\n",
    "from sklearn.tree import DecisionTreeRegressor\n",
    "import matplotlib.pyplot as plt\n",
    "import numpy as np\n",
    "import pandas as pd\n",
    "import plotly.express as px\n",
    "import re\n",
    "import seaborn as sns"
   ]
  },
  {
   "cell_type": "code",
   "execution_count": 2,
   "id": "1942c7d4",
   "metadata": {},
   "outputs": [],
   "source": [
    "#Lectura del csv\n",
    "df = pd.read_csv('properatti.csv')"
   ]
  },
  {
   "cell_type": "code",
   "execution_count": 3,
   "id": "b9772453",
   "metadata": {},
   "outputs": [],
   "source": [
    "#Solo nos quedamos con las operaciones en dólares\n",
    "df = df.loc[ df.currency.isin(['USD']), : ]"
   ]
  },
  {
   "cell_type": "code",
   "execution_count": 4,
   "id": "3c4c7892",
   "metadata": {},
   "outputs": [],
   "source": [
    "#Imputación de price_usd_per_m2 tomando el valor de price_per_m2 si el primero es null y el segundo no..\n",
    "df.loc[ df.price_usd_per_m2.isnull() & ~df.price_per_m2.isnull() , ['price_usd_per_m2'] ] = df.price_per_m2"
   ]
  },
  {
   "cell_type": "code",
   "execution_count": 5,
   "id": "1d96f13e",
   "metadata": {},
   "outputs": [],
   "source": [
    "#Regex para extraer el número de rooms en una determinada columna\n",
    "def regex_rooms(row,column):\n",
    "    \n",
    "    pattern = \"(?P<key>( \\d| \\d\\d))( (amb |ambientes))\"\n",
    "    regex = re.compile(pattern)\n",
    "    try:\n",
    "        return regex.search(row[column].lower()).group('key')\n",
    "    except:\n",
    "        return 0"
   ]
  },
  {
   "cell_type": "code",
   "execution_count": 6,
   "id": "b2f88a89",
   "metadata": {},
   "outputs": [],
   "source": [
    "#Definición de una nueva columna con el resultado de aplicar regex en description\n",
    "df['description_rooms'] = df.apply(lambda x: regex_rooms(x,'description'), axis = 1)"
   ]
  },
  {
   "cell_type": "code",
   "execution_count": 7,
   "id": "525bc080",
   "metadata": {},
   "outputs": [],
   "source": [
    "#Asignación del valor para rooms siempre y cuando sea nulo y por otro lado tengamos un valor en description por medio de Regex\n",
    "df.loc[ df.rooms.isna() & df.description_rooms != 0, ['rooms'] ] = df['description_rooms']"
   ]
  },
  {
   "cell_type": "code",
   "execution_count": 8,
   "id": "8cb9e645",
   "metadata": {},
   "outputs": [],
   "source": [
    "#Definición de una nueva columna con el resultado de aplicar regex en title\n",
    "df['title_rooms'] = df.apply(lambda x: regex_rooms(x,'title'), axis = 1)"
   ]
  },
  {
   "cell_type": "code",
   "execution_count": 9,
   "id": "190acf64",
   "metadata": {},
   "outputs": [],
   "source": [
    "#Asignación del valor para rooms siempre y cuando sea nulo y por otro lado tengamos un valor en title por medio de Regex\n",
    "df.loc[ df.rooms.isna() & df.title_rooms != 0, ['rooms'] ] = df['title_rooms']"
   ]
  },
  {
   "cell_type": "code",
   "execution_count": 10,
   "id": "6eb8b341",
   "metadata": {},
   "outputs": [],
   "source": [
    "#Establecemos en cero aquellos casos donde no pudimos asignar un valor a rooms para luego transformarlo en entero\n",
    "df.loc[ df.rooms.isna() , ['rooms'] ] = 0\n",
    "df['rooms'] = df['rooms'].astype(int)"
   ]
  },
  {
   "cell_type": "code",
   "execution_count": 11,
   "id": "57f99092",
   "metadata": {},
   "outputs": [],
   "source": [
    "#Seleccionamos los registros y columnas de interes \n",
    "df_ = df.loc[ (df.state_name.isin(['Capital Federal'])) & (df.rooms >= 1) & (df.rooms <= 6) & (df.surface_covered_in_m2 > 0) & (df.surface_covered_in_m2 < 100) , ['place_name','rooms','price_usd_per_m2','surface_covered_in_m2','price_aprox_usd'] ].reset_index(drop=True)"
   ]
  },
  {
   "cell_type": "code",
   "execution_count": 12,
   "id": "59d9fd8f",
   "metadata": {},
   "outputs": [
    {
     "data": {
      "text/html": [
       "<div>\n",
       "<style scoped>\n",
       "    .dataframe tbody tr th:only-of-type {\n",
       "        vertical-align: middle;\n",
       "    }\n",
       "\n",
       "    .dataframe tbody tr th {\n",
       "        vertical-align: top;\n",
       "    }\n",
       "\n",
       "    .dataframe thead th {\n",
       "        text-align: right;\n",
       "    }\n",
       "</style>\n",
       "<table border=\"1\" class=\"dataframe\">\n",
       "  <thead>\n",
       "    <tr style=\"text-align: right;\">\n",
       "      <th></th>\n",
       "      <th>place_name</th>\n",
       "      <th>rooms</th>\n",
       "      <th>price_usd_per_m2</th>\n",
       "      <th>surface_covered_in_m2</th>\n",
       "      <th>price_aprox_usd</th>\n",
       "    </tr>\n",
       "  </thead>\n",
       "  <tbody>\n",
       "    <tr>\n",
       "      <th>0</th>\n",
       "      <td>Palermo Soho</td>\n",
       "      <td>1</td>\n",
       "      <td>2234.000000</td>\n",
       "      <td>30.0</td>\n",
       "      <td>111700.0</td>\n",
       "    </tr>\n",
       "    <tr>\n",
       "      <th>1</th>\n",
       "      <td>Palermo Soho</td>\n",
       "      <td>1</td>\n",
       "      <td>3521.428571</td>\n",
       "      <td>31.0</td>\n",
       "      <td>147900.0</td>\n",
       "    </tr>\n",
       "    <tr>\n",
       "      <th>2</th>\n",
       "      <td>Mataderos</td>\n",
       "      <td>4</td>\n",
       "      <td>1707.142857</td>\n",
       "      <td>98.0</td>\n",
       "      <td>239000.0</td>\n",
       "    </tr>\n",
       "    <tr>\n",
       "      <th>3</th>\n",
       "      <td>Palermo</td>\n",
       "      <td>3</td>\n",
       "      <td>3365.384615</td>\n",
       "      <td>96.0</td>\n",
       "      <td>350000.0</td>\n",
       "    </tr>\n",
       "    <tr>\n",
       "      <th>4</th>\n",
       "      <td>Palermo</td>\n",
       "      <td>4</td>\n",
       "      <td>2292.372881</td>\n",
       "      <td>73.0</td>\n",
       "      <td>270500.0</td>\n",
       "    </tr>\n",
       "  </tbody>\n",
       "</table>\n",
       "</div>"
      ],
      "text/plain": [
       "     place_name  rooms  price_usd_per_m2  surface_covered_in_m2  \\\n",
       "0  Palermo Soho      1       2234.000000                   30.0   \n",
       "1  Palermo Soho      1       3521.428571                   31.0   \n",
       "2     Mataderos      4       1707.142857                   98.0   \n",
       "3       Palermo      3       3365.384615                   96.0   \n",
       "4       Palermo      4       2292.372881                   73.0   \n",
       "\n",
       "   price_aprox_usd  \n",
       "0         111700.0  \n",
       "1         147900.0  \n",
       "2         239000.0  \n",
       "3         350000.0  \n",
       "4         270500.0  "
      ]
     },
     "execution_count": 12,
     "metadata": {},
     "output_type": "execute_result"
    }
   ],
   "source": [
    "#Visualización de los primeros registros\n",
    "df_.head()"
   ]
  },
  {
   "cell_type": "code",
   "execution_count": 13,
   "id": "28013d3d",
   "metadata": {},
   "outputs": [
    {
     "data": {
      "text/plain": [
       "(15125, 5)"
      ]
     },
     "execution_count": 13,
     "metadata": {},
     "output_type": "execute_result"
    }
   ],
   "source": [
    "#Cantidad de filas y columnas\n",
    "df_.shape"
   ]
  },
  {
   "cell_type": "code",
   "execution_count": 14,
   "id": "a69059f6",
   "metadata": {},
   "outputs": [
    {
     "data": {
      "text/html": [
       "<div>\n",
       "<style scoped>\n",
       "    .dataframe tbody tr th:only-of-type {\n",
       "        vertical-align: middle;\n",
       "    }\n",
       "\n",
       "    .dataframe tbody tr th {\n",
       "        vertical-align: top;\n",
       "    }\n",
       "\n",
       "    .dataframe thead th {\n",
       "        text-align: right;\n",
       "    }\n",
       "</style>\n",
       "<table border=\"1\" class=\"dataframe\">\n",
       "  <thead>\n",
       "    <tr style=\"text-align: right;\">\n",
       "      <th></th>\n",
       "      <th>rooms</th>\n",
       "      <th>price_usd_per_m2</th>\n",
       "      <th>surface_covered_in_m2</th>\n",
       "      <th>price_aprox_usd</th>\n",
       "    </tr>\n",
       "  </thead>\n",
       "  <tbody>\n",
       "    <tr>\n",
       "      <th>count</th>\n",
       "      <td>15125.000000</td>\n",
       "      <td>1.512500e+04</td>\n",
       "      <td>15125.000000</td>\n",
       "      <td>1.512500e+04</td>\n",
       "    </tr>\n",
       "    <tr>\n",
       "      <th>mean</th>\n",
       "      <td>2.343471</td>\n",
       "      <td>3.943750e+03</td>\n",
       "      <td>52.036099</td>\n",
       "      <td>1.760270e+05</td>\n",
       "    </tr>\n",
       "    <tr>\n",
       "      <th>std</th>\n",
       "      <td>1.002400</td>\n",
       "      <td>2.395423e+04</td>\n",
       "      <td>19.241574</td>\n",
       "      <td>1.625976e+05</td>\n",
       "    </tr>\n",
       "    <tr>\n",
       "      <th>min</th>\n",
       "      <td>1.000000</td>\n",
       "      <td>7.051282e+01</td>\n",
       "      <td>1.000000</td>\n",
       "      <td>5.500000e+03</td>\n",
       "    </tr>\n",
       "    <tr>\n",
       "      <th>25%</th>\n",
       "      <td>2.000000</td>\n",
       "      <td>2.037037e+03</td>\n",
       "      <td>37.000000</td>\n",
       "      <td>9.800000e+04</td>\n",
       "    </tr>\n",
       "    <tr>\n",
       "      <th>50%</th>\n",
       "      <td>2.000000</td>\n",
       "      <td>2.463768e+03</td>\n",
       "      <td>48.000000</td>\n",
       "      <td>1.350000e+05</td>\n",
       "    </tr>\n",
       "    <tr>\n",
       "      <th>75%</th>\n",
       "      <td>3.000000</td>\n",
       "      <td>3.028125e+03</td>\n",
       "      <td>66.000000</td>\n",
       "      <td>1.940000e+05</td>\n",
       "    </tr>\n",
       "    <tr>\n",
       "      <th>max</th>\n",
       "      <td>6.000000</td>\n",
       "      <td>2.600000e+06</td>\n",
       "      <td>99.000000</td>\n",
       "      <td>6.809000e+06</td>\n",
       "    </tr>\n",
       "  </tbody>\n",
       "</table>\n",
       "</div>"
      ],
      "text/plain": [
       "              rooms  price_usd_per_m2  surface_covered_in_m2  price_aprox_usd\n",
       "count  15125.000000      1.512500e+04           15125.000000     1.512500e+04\n",
       "mean       2.343471      3.943750e+03              52.036099     1.760270e+05\n",
       "std        1.002400      2.395423e+04              19.241574     1.625976e+05\n",
       "min        1.000000      7.051282e+01               1.000000     5.500000e+03\n",
       "25%        2.000000      2.037037e+03              37.000000     9.800000e+04\n",
       "50%        2.000000      2.463768e+03              48.000000     1.350000e+05\n",
       "75%        3.000000      3.028125e+03              66.000000     1.940000e+05\n",
       "max        6.000000      2.600000e+06              99.000000     6.809000e+06"
      ]
     },
     "execution_count": 14,
     "metadata": {},
     "output_type": "execute_result"
    }
   ],
   "source": [
    "#Info de las columnas\n",
    "df_.describe()"
   ]
  },
  {
   "cell_type": "code",
   "execution_count": 15,
   "id": "dedd98d0",
   "metadata": {},
   "outputs": [
    {
     "data": {
      "image/png": "[encoded data removed]",
      "text/plain": [
       "<Figure size 432x288 with 2 Axes>"
      ]
     },
     "metadata": {
      "needs_background": "light"
     },
     "output_type": "display_data"
    }
   ],
   "source": [
    "#Correlación entre columnas\n",
    "sns.heatmap(df_.corr(), annot=True, vmin=-1, cmap='Blues');"
   ]
  },
  {
   "cell_type": "code",
   "execution_count": 16,
   "id": "a8498730",
   "metadata": {},
   "outputs": [
    {
     "data": {
      "text/html": [
       "<div>\n",
       "<style scoped>\n",
       "    .dataframe tbody tr th:only-of-type {\n",
       "        vertical-align: middle;\n",
       "    }\n",
       "\n",
       "    .dataframe tbody tr th {\n",
       "        vertical-align: top;\n",
       "    }\n",
       "\n",
       "    .dataframe thead th {\n",
       "        text-align: right;\n",
       "    }\n",
       "</style>\n",
       "<table border=\"1\" class=\"dataframe\">\n",
       "  <thead>\n",
       "    <tr style=\"text-align: right;\">\n",
       "      <th></th>\n",
       "      <th>Agronomía</th>\n",
       "      <th>Almagro</th>\n",
       "      <th>Balvanera</th>\n",
       "      <th>Barracas</th>\n",
       "      <th>Barrio Norte</th>\n",
       "      <th>Belgrano</th>\n",
       "      <th>Boca</th>\n",
       "      <th>Boedo</th>\n",
       "      <th>Caballito</th>\n",
       "      <th>Capital Federal</th>\n",
       "      <th>...</th>\n",
       "      <th>Villa Lugano</th>\n",
       "      <th>Villa Luro</th>\n",
       "      <th>Villa Ortuzar</th>\n",
       "      <th>Villa Pueyrredón</th>\n",
       "      <th>Villa Real</th>\n",
       "      <th>Villa Riachuelo</th>\n",
       "      <th>Villa Santa Rita</th>\n",
       "      <th>Villa Soldati</th>\n",
       "      <th>Villa Urquiza</th>\n",
       "      <th>Villa del Parque</th>\n",
       "    </tr>\n",
       "  </thead>\n",
       "  <tbody>\n",
       "    <tr>\n",
       "      <th>0</th>\n",
       "      <td>0</td>\n",
       "      <td>0</td>\n",
       "      <td>0</td>\n",
       "      <td>0</td>\n",
       "      <td>0</td>\n",
       "      <td>0</td>\n",
       "      <td>0</td>\n",
       "      <td>0</td>\n",
       "      <td>0</td>\n",
       "      <td>0</td>\n",
       "      <td>...</td>\n",
       "      <td>0</td>\n",
       "      <td>0</td>\n",
       "      <td>0</td>\n",
       "      <td>0</td>\n",
       "      <td>0</td>\n",
       "      <td>0</td>\n",
       "      <td>0</td>\n",
       "      <td>0</td>\n",
       "      <td>0</td>\n",
       "      <td>0</td>\n",
       "    </tr>\n",
       "    <tr>\n",
       "      <th>1</th>\n",
       "      <td>0</td>\n",
       "      <td>0</td>\n",
       "      <td>0</td>\n",
       "      <td>0</td>\n",
       "      <td>0</td>\n",
       "      <td>0</td>\n",
       "      <td>0</td>\n",
       "      <td>0</td>\n",
       "      <td>0</td>\n",
       "      <td>0</td>\n",
       "      <td>...</td>\n",
       "      <td>0</td>\n",
       "      <td>0</td>\n",
       "      <td>0</td>\n",
       "      <td>0</td>\n",
       "      <td>0</td>\n",
       "      <td>0</td>\n",
       "      <td>0</td>\n",
       "      <td>0</td>\n",
       "      <td>0</td>\n",
       "      <td>0</td>\n",
       "    </tr>\n",
       "    <tr>\n",
       "      <th>2</th>\n",
       "      <td>0</td>\n",
       "      <td>0</td>\n",
       "      <td>0</td>\n",
       "      <td>0</td>\n",
       "      <td>0</td>\n",
       "      <td>0</td>\n",
       "      <td>0</td>\n",
       "      <td>0</td>\n",
       "      <td>0</td>\n",
       "      <td>0</td>\n",
       "      <td>...</td>\n",
       "      <td>0</td>\n",
       "      <td>0</td>\n",
       "      <td>0</td>\n",
       "      <td>0</td>\n",
       "      <td>0</td>\n",
       "      <td>0</td>\n",
       "      <td>0</td>\n",
       "      <td>0</td>\n",
       "      <td>0</td>\n",
       "      <td>0</td>\n",
       "    </tr>\n",
       "    <tr>\n",
       "      <th>3</th>\n",
       "      <td>0</td>\n",
       "      <td>0</td>\n",
       "      <td>0</td>\n",
       "      <td>0</td>\n",
       "      <td>0</td>\n",
       "      <td>0</td>\n",
       "      <td>0</td>\n",
       "      <td>0</td>\n",
       "      <td>0</td>\n",
       "      <td>0</td>\n",
       "      <td>...</td>\n",
       "      <td>0</td>\n",
       "      <td>0</td>\n",
       "      <td>0</td>\n",
       "      <td>0</td>\n",
       "      <td>0</td>\n",
       "      <td>0</td>\n",
       "      <td>0</td>\n",
       "      <td>0</td>\n",
       "      <td>0</td>\n",
       "      <td>0</td>\n",
       "    </tr>\n",
       "    <tr>\n",
       "      <th>4</th>\n",
       "      <td>0</td>\n",
       "      <td>0</td>\n",
       "      <td>0</td>\n",
       "      <td>0</td>\n",
       "      <td>0</td>\n",
       "      <td>0</td>\n",
       "      <td>0</td>\n",
       "      <td>0</td>\n",
       "      <td>0</td>\n",
       "      <td>0</td>\n",
       "      <td>...</td>\n",
       "      <td>0</td>\n",
       "      <td>0</td>\n",
       "      <td>0</td>\n",
       "      <td>0</td>\n",
       "      <td>0</td>\n",
       "      <td>0</td>\n",
       "      <td>0</td>\n",
       "      <td>0</td>\n",
       "      <td>0</td>\n",
       "      <td>0</td>\n",
       "    </tr>\n",
       "  </tbody>\n",
       "</table>\n",
       "<p>5 rows × 60 columns</p>\n",
       "</div>"
      ],
      "text/plain": [
       "   Agronomía  Almagro  Balvanera  Barracas  Barrio Norte  Belgrano  Boca  \\\n",
       "0          0        0          0         0             0         0     0   \n",
       "1          0        0          0         0             0         0     0   \n",
       "2          0        0          0         0             0         0     0   \n",
       "3          0        0          0         0             0         0     0   \n",
       "4          0        0          0         0             0         0     0   \n",
       "\n",
       "   Boedo  Caballito  Capital Federal  ...  Villa Lugano  Villa Luro  \\\n",
       "0      0          0                0  ...             0           0   \n",
       "1      0          0                0  ...             0           0   \n",
       "2      0          0                0  ...             0           0   \n",
       "3      0          0                0  ...             0           0   \n",
       "4      0          0                0  ...             0           0   \n",
       "\n",
       "   Villa Ortuzar  Villa Pueyrredón  Villa Real  Villa Riachuelo  \\\n",
       "0              0                 0           0                0   \n",
       "1              0                 0           0                0   \n",
       "2              0                 0           0                0   \n",
       "3              0                 0           0                0   \n",
       "4              0                 0           0                0   \n",
       "\n",
       "   Villa Santa Rita  Villa Soldati  Villa Urquiza  Villa del Parque  \n",
       "0                 0              0              0                 0  \n",
       "1                 0              0              0                 0  \n",
       "2                 0              0              0                 0  \n",
       "3                 0              0              0                 0  \n",
       "4                 0              0              0                 0  \n",
       "\n",
       "[5 rows x 60 columns]"
      ]
     },
     "execution_count": 16,
     "metadata": {},
     "output_type": "execute_result"
    }
   ],
   "source": [
    "#Definición de una nueva columna por cada una de las variables categoricas en place_name\n",
    "dummy = pd.get_dummies(df_['place_name'],drop_first=True)\n",
    "dummy.head()"
   ]
  },
  {
   "cell_type": "code",
   "execution_count": 17,
   "id": "53d2c49d",
   "metadata": {},
   "outputs": [],
   "source": [
    "#Concatenamos las columnas del paso anterior\n",
    "df_ = pd.concat([df_,dummy],axis=1)"
   ]
  },
  {
   "cell_type": "code",
   "execution_count": 18,
   "id": "fa049623",
   "metadata": {},
   "outputs": [
    {
     "data": {
      "text/plain": [
       "Index(['place_name', 'rooms', 'price_usd_per_m2', 'surface_covered_in_m2',\n",
       "       'price_aprox_usd', 'Agronomía', 'Almagro', 'Balvanera', 'Barracas',\n",
       "       'Barrio Norte', 'Belgrano', 'Boca', 'Boedo', 'Caballito',\n",
       "       'Capital Federal', 'Centro / Microcentro', 'Chacarita', 'Coghlan',\n",
       "       'Colegiales', 'Congreso', 'Constitución', 'Flores', 'Floresta',\n",
       "       'Las Cañitas', 'Liniers', 'Mataderos', 'Monserrat', 'Monte Castro',\n",
       "       'Nuñez', 'Once', 'Palermo', 'Palermo Chico', 'Palermo Hollywood',\n",
       "       'Palermo Soho', 'Palermo Viejo', 'Parque Avellaneda',\n",
       "       'Parque Centenario', 'Parque Chacabuco', 'Parque Chas',\n",
       "       'Parque Patricios', 'Paternal', 'Pompeya', 'Puerto Madero', 'Recoleta',\n",
       "       'Retiro', 'Saavedra', 'San Cristobal', 'San Nicolás', 'San Telmo',\n",
       "       'Tribunales', 'Velez Sarsfield', 'Versalles', 'Villa Crespo',\n",
       "       'Villa Devoto', 'Villa General Mitre', 'Villa Lugano', 'Villa Luro',\n",
       "       'Villa Ortuzar', 'Villa Pueyrredón', 'Villa Real', 'Villa Riachuelo',\n",
       "       'Villa Santa Rita', 'Villa Soldati', 'Villa Urquiza',\n",
       "       'Villa del Parque'],\n",
       "      dtype='object')"
      ]
     },
     "execution_count": 18,
     "metadata": {},
     "output_type": "execute_result"
    }
   ],
   "source": [
    "#Visualización de columnas\n",
    "df_.columns"
   ]
  },
  {
   "cell_type": "code",
   "execution_count": 19,
   "id": "f4aa6468",
   "metadata": {},
   "outputs": [
    {
     "data": {
      "text/plain": [
       "65"
      ]
     },
     "execution_count": 19,
     "metadata": {},
     "output_type": "execute_result"
    }
   ],
   "source": [
    "#Visualización de columnas (Cantidad)\n",
    "df_.columns.value_counts().sum()"
   ]
  },
  {
   "cell_type": "code",
   "execution_count": 20,
   "id": "7cde4acc",
   "metadata": {},
   "outputs": [],
   "source": [
    "#Seleccionamos una clase de modelo\n",
    "model = LinearRegression()"
   ]
  },
  {
   "cell_type": "code",
   "execution_count": 21,
   "id": "6635b9db",
   "metadata": {},
   "outputs": [],
   "source": [
    "#Seleccionamos una matriz de features y un vector target\n",
    "X = df_.drop(['place_name','price_aprox_usd'], axis = 1)\n",
    "y = df_[['price_aprox_usd']]"
   ]
  },
  {
   "cell_type": "code",
   "execution_count": 22,
   "id": "8af1060a",
   "metadata": {},
   "outputs": [],
   "source": [
    "#Separamos el dataset entre training y test\n",
    "Xtrain, Xtest, ytrain, ytest = train_test_split(X, y, random_state=1)"
   ]
  },
  {
   "cell_type": "code",
   "execution_count": 23,
   "id": "a5e8d443",
   "metadata": {},
   "outputs": [
    {
     "data": {
      "text/plain": [
       "LinearRegression()"
      ]
     },
     "execution_count": 23,
     "metadata": {},
     "output_type": "execute_result"
    }
   ],
   "source": [
    "#Ajustamos el modelo a los datos de entrenamiento\n",
    "model.fit(Xtrain, ytrain)"
   ]
  },
  {
   "cell_type": "code",
   "execution_count": 24,
   "id": "19cf96a2",
   "metadata": {},
   "outputs": [],
   "source": [
    "#Predicción con los datos de test\n",
    "ypred = model.predict(Xtest)"
   ]
  },
  {
   "cell_type": "code",
   "execution_count": 25,
   "id": "293d4c6c",
   "metadata": {},
   "outputs": [
    {
     "name": "stdout",
     "output_type": "stream",
     "text": [
      "MAE: 55435.5\n",
      "MSE: 13416107981.11\n",
      "RMSE: 115827.92\n",
      "R2: 0.34\n"
     ]
    }
   ],
   "source": [
    "#Visualización de las métricas de performance\n",
    "print ('MAE:', mean_absolute_error(ytest, ypred).round(2))\n",
    "print ('MSE:', mean_squared_error(ytest, ypred).round(2))\n",
    "print ('RMSE:', np.sqrt(mean_squared_error(ytest, ypred)).round(2))\n",
    "print ('R2:', r2_score(ytest, ypred).round(2))"
   ]
  },
  {
   "cell_type": "code",
   "execution_count": 26,
   "id": "b18a2a68",
   "metadata": {},
   "outputs": [],
   "source": [
    "#Definición de una única escala para los datos\n",
    "scaler =  StandardScaler()\n",
    "X_train_scaled = scaler.fit_transform(Xtrain)\n",
    "X_test_scaled  = scaler.transform(Xtest)"
   ]
  },
  {
   "cell_type": "code",
   "execution_count": 27,
   "id": "6d502383",
   "metadata": {},
   "outputs": [],
   "source": [
    "#Definición de los alphas, lasso, parámetros y errores\n",
    "alphas = np.logspace(0,7,20)\n",
    "\n",
    "error_train_lista = []\n",
    "error_test_lista = []\n",
    "\n",
    "params = pd.DataFrame()\n",
    "\n",
    "for alpha in alphas:\n",
    "    \n",
    "    lasso = Lasso(alpha = alpha, max_iter = 10000)\n",
    "    lasso.fit(X_train_scaled, ytrain.values)\n",
    "    params = pd.concat([params,pd.DataFrame({f'{alpha}':lasso.coef_},index = X.columns)], axis = 1)\n",
    "    \n",
    "    error_train = mean_squared_error(ytrain, lasso.predict(X_train_scaled))\n",
    "    error_test  = mean_squared_error(ytest,  lasso.predict(scaler.transform(X_test_scaled)))\n",
    "    \n",
    "    error_train_lista.append(error_train)\n",
    "    error_test_lista.append(error_test)"
   ]
  },
  {
   "cell_type": "code",
   "execution_count": 28,
   "id": "db67407f",
   "metadata": {},
   "outputs": [
    {
     "data": {
      "image/png": "[encoded data removed]",
      "text/plain": [
       "<Figure size 432x288 with 1 Axes>"
      ]
     },
     "metadata": {
      "needs_background": "light"
     },
     "output_type": "display_data"
    }
   ],
   "source": [
    "#Evolución de las métricas con la regularización\n",
    "plt.plot(alphas[::-1], error_test_lista, label = 'test')\n",
    "plt.plot(alphas[::-1], error_train_lista, label = 'train')\n",
    "\n",
    "plt.title('Evolución de las métricas con la regularización')\n",
    "plt.legend()\n",
    "plt.xlabel('1 / lambda')\n",
    "plt.ylabel('error')\n",
    "plt.xscale('log')\n",
    "plt.show()"
   ]
  },
  {
   "cell_type": "code",
   "execution_count": 29,
   "id": "e61fdf12",
   "metadata": {},
   "outputs": [
    {
     "data": {
      "image/png": "[encoded data removed]",
      "text/plain": [
       "<Figure size 432x288 with 1 Axes>"
      ]
     },
     "metadata": {
      "needs_background": "light"
     },
     "output_type": "display_data"
    }
   ],
   "source": [
    "#Evolución de las métricas con la regularización\n",
    "plt.plot(alphas, error_test_lista, label = 'test')\n",
    "plt.plot(alphas, error_train_lista, label = 'train')\n",
    "\n",
    "plt.title('Evolución de las métricas con la regularización')\n",
    "plt.legend()\n",
    "plt.xlabel('lambda')\n",
    "plt.ylabel('error')\n",
    "plt.xscale('log')\n",
    "plt.show()"
   ]
  },
  {
   "cell_type": "code",
   "execution_count": 30,
   "id": "fc1e7d06",
   "metadata": {},
   "outputs": [
    {
     "data": {
      "text/plain": [
       "1.0                   20705.610969\n",
       "2.3357214690901222    20627.368282\n",
       "5.455594781168519     20476.029271\n",
       "12.742749857031335    20086.805218\n",
       "29.76351441631318     19690.300560\n",
       "69.51927961775606     19305.866587\n",
       "162.3776739188721     18906.442959\n",
       "379.26901907322497    18631.982601\n",
       "885.8667904100823     17954.042042\n",
       "2069.138081114788     16725.821133\n",
       "4832.930238571752     13850.406807\n",
       "11288.378916846883     7818.643261\n",
       "26366.508987303554        0.000000\n",
       "61584.82110660255         0.000000\n",
       "143844.9888287663         0.000000\n",
       "335981.8286283781         0.000000\n",
       "784759.9703514606         0.000000\n",
       "1832980.7108324338        0.000000\n",
       "4281332.398719387         0.000000\n",
       "10000000.0                0.000000\n",
       "Name: Puerto Madero, dtype: float64"
      ]
     },
     "execution_count": 30,
     "metadata": {},
     "output_type": "execute_result"
    }
   ],
   "source": [
    "#Visualización de los coefientes para la columna Puerto Madero según avanza la regularización\n",
    "params.loc[ 'Puerto Madero' ,  : ]"
   ]
  },
  {
   "cell_type": "code",
   "execution_count": 31,
   "id": "85eb5a1f",
   "metadata": {},
   "outputs": [
    {
     "data": {
      "text/html": [
       "<div>\n",
       "<style scoped>\n",
       "    .dataframe tbody tr th:only-of-type {\n",
       "        vertical-align: middle;\n",
       "    }\n",
       "\n",
       "    .dataframe tbody tr th {\n",
       "        vertical-align: top;\n",
       "    }\n",
       "\n",
       "    .dataframe thead th {\n",
       "        text-align: right;\n",
       "    }\n",
       "</style>\n",
       "<table border=\"1\" class=\"dataframe\">\n",
       "  <thead>\n",
       "    <tr style=\"text-align: right;\">\n",
       "      <th></th>\n",
       "      <th>place_name</th>\n",
       "      <th>value</th>\n",
       "    </tr>\n",
       "  </thead>\n",
       "  <tbody>\n",
       "    <tr>\n",
       "      <th>2</th>\n",
       "      <td>Boedo</td>\n",
       "      <td>41068.834504</td>\n",
       "    </tr>\n",
       "    <tr>\n",
       "      <th>0</th>\n",
       "      <td>price_usd_per_m2</td>\n",
       "      <td>35809.997999</td>\n",
       "    </tr>\n",
       "    <tr>\n",
       "      <th>5</th>\n",
       "      <td>San Cristobal</td>\n",
       "      <td>33209.304785</td>\n",
       "    </tr>\n",
       "    <tr>\n",
       "      <th>1</th>\n",
       "      <td>surface_covered_in_m2</td>\n",
       "      <td>28426.884674</td>\n",
       "    </tr>\n",
       "    <tr>\n",
       "      <th>4</th>\n",
       "      <td>Puerto Madero</td>\n",
       "      <td>7818.643261</td>\n",
       "    </tr>\n",
       "    <tr>\n",
       "      <th>3</th>\n",
       "      <td>Palermo</td>\n",
       "      <td>729.331971</td>\n",
       "    </tr>\n",
       "  </tbody>\n",
       "</table>\n",
       "</div>"
      ],
      "text/plain": [
       "              place_name         value\n",
       "2                  Boedo  41068.834504\n",
       "0       price_usd_per_m2  35809.997999\n",
       "5          San Cristobal  33209.304785\n",
       "1  surface_covered_in_m2  28426.884674\n",
       "4          Puerto Madero   7818.643261\n",
       "3                Palermo    729.331971"
      ]
     },
     "execution_count": 31,
     "metadata": {},
     "output_type": "execute_result"
    }
   ],
   "source": [
    "#Filtramos los parámetros con el valor 11288.378916846883\n",
    "df_params_11288 = pd.DataFrame({'place_name':params['11288.378916846883'].index, 'value':params['11288.378916846883'].values})\n",
    "df_params_11288 = df_params_11288.loc[ df_params_11288['value'] > 0 , :].reset_index(drop=True).sort_values(['value'], ascending=[False])\n",
    "df_params_11288\n"
   ]
  },
  {
   "cell_type": "code",
   "execution_count": 32,
   "id": "cbe21aaa",
   "metadata": {},
   "outputs": [
    {
     "data": {
      "image/png": "[encoded data removed]",
      "text/plain": [
       "<Figure size 864x576 with 1 Axes>"
      ]
     },
     "metadata": {
      "needs_background": "light"
     },
     "output_type": "display_data"
    }
   ],
   "source": [
    "#Visualización de como avanza la regularización\n",
    "params_to_plot = params.loc[ pd.Index(df_params_11288['place_name'].tolist()) , : ]\n",
    "alphas_to_plot = params_to_plot.columns\n",
    "alphas_to_plot = np.array(alphas_to_plot, dtype = 'float')\n",
    "\n",
    "plt.figure(figsize=(12, 8))\n",
    "\n",
    "for i in range(0,len(params_to_plot)):\n",
    "    plt.plot(alphas_to_plot, np.abs(params_to_plot.iloc[i].values), label = params_to_plot.index[i])\n",
    "\n",
    "plt.title('Evolución de los parámetros con la regularización (alpha=11288) ')\n",
    "plt.legend()\n",
    "plt.xticks(rotation = 45)\n",
    "plt.xscale('log')\n",
    "plt.show()"
   ]
  },
  {
   "cell_type": "code",
   "execution_count": 33,
   "id": "62fdefbe",
   "metadata": {},
   "outputs": [
    {
     "data": {
      "text/plain": [
       "1.0                   20705.610969\n",
       "2.3357214690901222    20627.368282\n",
       "5.455594781168519     20476.029271\n",
       "12.742749857031335    20086.805218\n",
       "29.76351441631318     19690.300560\n",
       "69.51927961775606     19305.866587\n",
       "162.3776739188721     18906.442959\n",
       "379.26901907322497    18631.982601\n",
       "885.8667904100823     17954.042042\n",
       "2069.138081114788     16725.821133\n",
       "4832.930238571752     13850.406807\n",
       "11288.378916846883     7818.643261\n",
       "26366.508987303554        0.000000\n",
       "61584.82110660255         0.000000\n",
       "143844.9888287663         0.000000\n",
       "335981.8286283781         0.000000\n",
       "784759.9703514606         0.000000\n",
       "1832980.7108324338        0.000000\n",
       "4281332.398719387         0.000000\n",
       "10000000.0                0.000000\n",
       "Name: Puerto Madero, dtype: float64"
      ]
     },
     "execution_count": 33,
     "metadata": {},
     "output_type": "execute_result"
    }
   ],
   "source": [
    "#Visualización de los coefientes para la columna Puerto Madero según avanza la regularización\n",
    "params.loc[ 'Puerto Madero' ,  : ]"
   ]
  },
  {
   "cell_type": "code",
   "execution_count": 34,
   "id": "756339c2",
   "metadata": {},
   "outputs": [
    {
     "data": {
      "text/html": [
       "<div>\n",
       "<style scoped>\n",
       "    .dataframe tbody tr th:only-of-type {\n",
       "        vertical-align: middle;\n",
       "    }\n",
       "\n",
       "    .dataframe tbody tr th {\n",
       "        vertical-align: top;\n",
       "    }\n",
       "\n",
       "    .dataframe thead th {\n",
       "        text-align: right;\n",
       "    }\n",
       "</style>\n",
       "<table border=\"1\" class=\"dataframe\">\n",
       "  <thead>\n",
       "    <tr style=\"text-align: right;\">\n",
       "      <th></th>\n",
       "      <th>place_name</th>\n",
       "      <th>value</th>\n",
       "    </tr>\n",
       "  </thead>\n",
       "  <tbody>\n",
       "    <tr>\n",
       "      <th>4</th>\n",
       "      <td>Boedo</td>\n",
       "      <td>50131.196042</td>\n",
       "    </tr>\n",
       "    <tr>\n",
       "      <th>0</th>\n",
       "      <td>price_usd_per_m2</td>\n",
       "      <td>41662.763474</td>\n",
       "    </tr>\n",
       "    <tr>\n",
       "      <th>11</th>\n",
       "      <td>San Cristobal</td>\n",
       "      <td>41103.204548</td>\n",
       "    </tr>\n",
       "    <tr>\n",
       "      <th>1</th>\n",
       "      <td>surface_covered_in_m2</td>\n",
       "      <td>36842.594325</td>\n",
       "    </tr>\n",
       "    <tr>\n",
       "      <th>9</th>\n",
       "      <td>Puerto Madero</td>\n",
       "      <td>13850.406807</td>\n",
       "    </tr>\n",
       "    <tr>\n",
       "      <th>6</th>\n",
       "      <td>Palermo</td>\n",
       "      <td>8246.968089</td>\n",
       "    </tr>\n",
       "    <tr>\n",
       "      <th>3</th>\n",
       "      <td>Belgrano</td>\n",
       "      <td>3670.595243</td>\n",
       "    </tr>\n",
       "    <tr>\n",
       "      <th>10</th>\n",
       "      <td>Recoleta</td>\n",
       "      <td>2839.741255</td>\n",
       "    </tr>\n",
       "    <tr>\n",
       "      <th>7</th>\n",
       "      <td>Palermo Chico</td>\n",
       "      <td>2473.895226</td>\n",
       "    </tr>\n",
       "    <tr>\n",
       "      <th>8</th>\n",
       "      <td>Palermo Hollywood</td>\n",
       "      <td>996.604755</td>\n",
       "    </tr>\n",
       "    <tr>\n",
       "      <th>2</th>\n",
       "      <td>Barrio Norte</td>\n",
       "      <td>990.545068</td>\n",
       "    </tr>\n",
       "    <tr>\n",
       "      <th>5</th>\n",
       "      <td>Las Cañitas</td>\n",
       "      <td>819.509265</td>\n",
       "    </tr>\n",
       "  </tbody>\n",
       "</table>\n",
       "</div>"
      ],
      "text/plain": [
       "               place_name         value\n",
       "4                   Boedo  50131.196042\n",
       "0        price_usd_per_m2  41662.763474\n",
       "11          San Cristobal  41103.204548\n",
       "1   surface_covered_in_m2  36842.594325\n",
       "9           Puerto Madero  13850.406807\n",
       "6                 Palermo   8246.968089\n",
       "3                Belgrano   3670.595243\n",
       "10               Recoleta   2839.741255\n",
       "7           Palermo Chico   2473.895226\n",
       "8       Palermo Hollywood    996.604755\n",
       "2            Barrio Norte    990.545068\n",
       "5             Las Cañitas    819.509265"
      ]
     },
     "execution_count": 34,
     "metadata": {},
     "output_type": "execute_result"
    }
   ],
   "source": [
    "#Filtramos los parámetros con el valor 4832.930238571752\n",
    "df_params_4832 = pd.DataFrame({'place_name':params['4832.930238571752'].index, 'value':params['4832.930238571752'].values})\n",
    "df_params_4832 = df_params_4832.loc[ df_params_4832.value > 0 , :].reset_index(drop=True).sort_values(['value'], ascending=[False])\n",
    "df_params_4832\n"
   ]
  },
  {
   "cell_type": "code",
   "execution_count": 35,
   "id": "6a369a59",
   "metadata": {},
   "outputs": [
    {
     "data": {
      "image/png": "[encoded data removed]",
      "text/plain": [
       "<Figure size 864x576 with 1 Axes>"
      ]
     },
     "metadata": {
      "needs_background": "light"
     },
     "output_type": "display_data"
    }
   ],
   "source": [
    "#Visualización de como avanza la regularización\n",
    "params_to_plot = params.loc[ pd.Index(df_params_4832['place_name'].tolist()) , : ]\n",
    "alphas_to_plot = params_to_plot.columns\n",
    "alphas_to_plot = np.array(alphas_to_plot, dtype = 'float')\n",
    "\n",
    "plt.figure(figsize=(12, 8))\n",
    "\n",
    "for i in range(0,len(params_to_plot)):\n",
    "    plt.plot(alphas_to_plot, np.abs(params_to_plot.iloc[i].values), label = params_to_plot.index[i])\n",
    "\n",
    "plt.title('Evolución de los parámetros con la regularización (alpha=4832)')\n",
    "plt.legend()\n",
    "plt.xticks(rotation = 45)\n",
    "plt.xscale('log')\n",
    "plt.show()"
   ]
  },
  {
   "cell_type": "code",
   "execution_count": 36,
   "id": "e0023b87",
   "metadata": {},
   "outputs": [
    {
     "name": "stdout",
     "output_type": "stream",
     "text": [
      "61584.82110660255\n"
     ]
    }
   ],
   "source": [
    "#Mejor alpha\n",
    "mejor_alpha = np.argmin(error_test_lista)\n",
    "mejor_alpha = alphas[mejor_alpha]\n",
    "print(mejor_alpha)"
   ]
  },
  {
   "cell_type": "code",
   "execution_count": 37,
   "id": "406cb526",
   "metadata": {},
   "outputs": [],
   "source": [
    "#Mejor lasso tomando el mejor alpha\n",
    "#mejor_lasso = Lasso(alpha = mejor_alpha)"
   ]
  },
  {
   "cell_type": "code",
   "execution_count": 38,
   "id": "2d495b58",
   "metadata": {},
   "outputs": [],
   "source": [
    "#Mejor lasso tomando el valor 11288.378916846883\n",
    "mejor_lasso = Lasso(alpha = 11288.378916846883)"
   ]
  },
  {
   "cell_type": "code",
   "execution_count": 39,
   "id": "bb145f1d",
   "metadata": {},
   "outputs": [
    {
     "data": {
      "text/plain": [
       "Lasso(alpha=11288.378916846883)"
      ]
     },
     "execution_count": 39,
     "metadata": {},
     "output_type": "execute_result"
    }
   ],
   "source": [
    "#Ajustamos el modelo a los datos de entrenamiento\n",
    "mejor_lasso.fit(X_train_scaled, ytrain.values)"
   ]
  },
  {
   "cell_type": "code",
   "execution_count": 40,
   "id": "d7ffbbe6",
   "metadata": {},
   "outputs": [
    {
     "data": {
      "text/plain": [
       "Index(['price_usd_per_m2', 'surface_covered_in_m2', 'Boedo', 'Palermo',\n",
       "       'Puerto Madero', 'San Cristobal'],\n",
       "      dtype='object')"
      ]
     },
     "execution_count": 40,
     "metadata": {},
     "output_type": "execute_result"
    }
   ],
   "source": [
    "#Visualización de las columnas que mantenemos luego de regularizar con alpha = 11288.378916846883\n",
    "X.columns[mejor_lasso.coef_ != 0]"
   ]
  },
  {
   "cell_type": "code",
   "execution_count": 41,
   "id": "b6f4d55a",
   "metadata": {},
   "outputs": [
    {
     "name": "stderr",
     "output_type": "stream",
     "text": [
      "C:\\Users\\Franco\\anaconda3\\envs\\dhdsblend2021\\lib\\site-packages\\sklearn\\utils\\validation.py:72: DataConversionWarning: A column-vector y was passed when a 1d array was expected. Please change the shape of y to (n_samples, ), for example using ravel().\n",
      "  return f(**kwargs)\n"
     ]
    },
    {
     "name": "stdout",
     "output_type": "stream",
     "text": [
      "162.3776739188721\n",
      "0.31976231826032553\n"
     ]
    }
   ],
   "source": [
    "#Visualización de alpha y scores para lasso cv\n",
    "model_lasso_cv = linear_model.LassoCV(alphas = alphas, fit_intercept=True, normalize=False, cv=10, max_iter=1e4)\n",
    "model_fit_lasso_cv = model_lasso_cv.fit(Xtrain, ytrain)\n",
    "print(model_fit_lasso_cv.alpha_)\n",
    "print(model_fit_lasso_cv.score(Xtrain, ytrain))"
   ]
  },
  {
   "cell_type": "code",
   "execution_count": 42,
   "id": "2b0deb34",
   "metadata": {},
   "outputs": [
    {
     "name": "stdout",
     "output_type": "stream",
     "text": [
      "[ 2.85753347e+03  1.68094762e+00  2.13097433e+03 -0.00000000e+00\n",
      "  4.74836313e+03 -2.20227800e+04 -1.44583227e+03  3.68177561e+04\n",
      "  3.90729189e+04 -0.00000000e+00  2.66449636e+05  5.79995412e+03\n",
      " -0.00000000e+00 -0.00000000e+00 -0.00000000e+00  0.00000000e+00\n",
      "  1.37487531e+03 -0.00000000e+00 -2.17783247e+04 -1.67800326e+04\n",
      " -2.85839756e+04  5.56747892e+04 -7.64776160e+03 -6.61002092e+03\n",
      " -1.37843945e+04 -0.00000000e+00  3.13570580e+04 -1.18280858e+04\n",
      "  5.36851366e+04  8.43005038e+04  4.43673543e+04  3.43408463e+04\n",
      "  0.00000000e+00 -0.00000000e+00 -0.00000000e+00 -0.00000000e+00\n",
      " -0.00000000e+00 -1.00138337e+04 -0.00000000e+00 -0.00000000e+00\n",
      "  1.74242757e+05  4.67237021e+04  0.00000000e+00  8.08642624e+03\n",
      "  2.80518530e+05 -0.00000000e+00 -5.33076460e+02 -0.00000000e+00\n",
      " -0.00000000e+00 -0.00000000e+00  0.00000000e+00  0.00000000e+00\n",
      " -0.00000000e+00 -4.22320788e+04  0.00000000e+00  0.00000000e+00\n",
      " -0.00000000e+00 -0.00000000e+00 -0.00000000e+00 -0.00000000e+00\n",
      " -0.00000000e+00  5.84030752e+03  0.00000000e+00]\n",
      "[18994.63410397]\n",
      "0.31976231826032553\n",
      "0.3413505975644301\n"
     ]
    }
   ],
   "source": [
    "#Visualización de los coeficientes para lasso cv\n",
    "best_alpha = model_fit_lasso_cv.alpha_\n",
    "model_lasso = linear_model.Lasso(alpha = best_alpha, fit_intercept = True, normalize = False)\n",
    "model_fit_lasso = model_lasso.fit(Xtrain, ytrain)\n",
    "print(model_fit_lasso.coef_)\n",
    "print(model_fit_lasso.intercept_)\n",
    "print(model_fit_lasso.score(Xtrain, ytrain))\n",
    "print(model_fit_lasso.score(Xtest, ytest))"
   ]
  },
  {
   "cell_type": "code",
   "execution_count": 43,
   "id": "6af0dec8",
   "metadata": {},
   "outputs": [
    {
     "name": "stdout",
     "output_type": "stream",
     "text": [
      "5.455594781168519\n",
      "-0.18091864354739334\n"
     ]
    }
   ],
   "source": [
    "#Visualización de alpha y scores para ridge cv\n",
    "model_ridge_cv = linear_model.RidgeCV(alphas = alphas, fit_intercept=True, normalize=False, cv=10)\n",
    "model_fit_ridge_cv = model_ridge_cv.fit(Xtrain, ytrain)\n",
    "print(model_fit_ridge_cv.alpha_)\n",
    "print(model_fit_ridge_cv.best_score_)"
   ]
  },
  {
   "cell_type": "code",
   "execution_count": 44,
   "id": "98bc989f",
   "metadata": {},
   "outputs": [
    {
     "name": "stdout",
     "output_type": "stream",
     "text": [
      "[[ 4.22931049e+03  1.67454212e+00  2.08038507e+03 -8.76840589e+03\n",
      "   4.33211681e+02 -3.60098681e+04 -2.01446827e+04  3.34999787e+04\n",
      "   3.30434180e+04 -3.08700960e+04  2.59650871e+05 -4.82170806e+02\n",
      "  -1.56038289e+04 -9.63149965e+03 -1.43017655e+04 -3.27103360e+03\n",
      "   5.00369149e+03 -9.57840505e+03 -4.71434622e+04 -2.83609706e+04\n",
      "  -4.54116165e+04  7.02949691e+04 -3.19075495e+04 -3.08670490e+04\n",
      "  -3.05805824e+04 -2.32632411e+04  2.95227064e+04 -4.39862962e+04\n",
      "   4.73398545e+04  1.06487175e+05  4.41002443e+04  3.85788789e+04\n",
      "   4.24073164e+04 -5.04235210e+04 -1.09488074e+04 -2.16132454e+04\n",
      "  -1.06929464e+04 -3.11462462e+04 -3.40252047e+04 -2.98514776e+04\n",
      "   1.75056709e+05  4.31191717e+04 -6.57577691e+03  9.18686488e+03\n",
      "   2.73535922e+05 -2.21276207e+04 -1.29370455e+04 -1.87481940e+04\n",
      "  -1.59346381e+04 -2.19390778e+04 -5.91339329e+03 -5.31695802e+03\n",
      "  -1.78314405e+04 -7.26381380e+04  1.35583951e+03 -6.08976505e+03\n",
      "  -1.35736086e+04 -2.23764232e+04 -1.26196856e+04 -2.79709691e+04\n",
      "  -6.98160305e+04  7.69932272e+02 -5.59540539e+03]]\n",
      "[26584.27261139]\n",
      "0.3229125691118663\n",
      "0.3434205354195843\n"
     ]
    }
   ],
   "source": [
    "#Visualización de los coeficientes para ridge cv\n",
    "best_alpha = model_fit_ridge_cv.alpha_\n",
    "model_ridge = linear_model.Ridge(alpha = best_alpha, fit_intercept = True, normalize = False)\n",
    "model_fit_ridge = model_ridge.fit(Xtrain, ytrain)\n",
    "print(model_fit_ridge.coef_)\n",
    "print(model_fit_ridge.intercept_)\n",
    "print(model_fit_ridge.score(Xtrain, ytrain))\n",
    "print(model_fit_ridge.score(Xtest, ytest))"
   ]
  }
 ],
 "metadata": {
  "kernelspec": {
   "display_name": "Python 3 (ipykernel)",
   "language": "python",
   "name": "python3"
  },
  "language_info": {
   "codemirror_mode": {
    "name": "ipython",
    "version": 3
   },
   "file_extension": ".py",
   "mimetype": "text/x-python",
   "name": "python",
   "nbconvert_exporter": "python",
   "pygments_lexer": "ipython3",
   "version": "3.8.11"
  }
 },
 "nbformat": 4,
 "nbformat_minor": 5
}
